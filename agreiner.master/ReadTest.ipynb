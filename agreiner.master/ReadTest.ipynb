{
 "cells": [
  {
   "cell_type": "code",
   "execution_count": 1,
   "metadata": {},
   "outputs": [],
   "source": [
    "import numpy as np"
   ]
  },
  {
   "cell_type": "code",
   "execution_count": 29,
   "metadata": {},
   "outputs": [],
   "source": [
    "npzfile=np.load('Test.npz')"
   ]
  },
  {
   "cell_type": "code",
   "execution_count": 30,
   "metadata": {},
   "outputs": [
    {
     "data": {
      "text/plain": [
       "['numbered', 'yC', 'yD', 'yR']"
      ]
     },
     "execution_count": 30,
     "metadata": {},
     "output_type": "execute_result"
    }
   ],
   "source": [
    "npzfile.files"
   ]
  },
  {
   "cell_type": "code",
   "execution_count": 31,
   "metadata": {},
   "outputs": [
    {
     "data": {
      "text/plain": [
       "array({'Thailand': 0, 'Japan': 1, 'Singapore': 2, 'Nepal': 3, 'Malaysia': 4, 'Canada': 5, 'Australia': 6, 'Cambodia': 7, 'Sri Lanka': 8, 'Germany': 9, 'Finland': 10, 'United Arab Emirates': 11, 'Philippines': 12, 'India': 13, 'Italy': 14, 'Sweden': 15, 'Spain': 16, 'Belgium': 17, 'Egypt': 18, 'Lebanon': 19, 'Iraq': 20, 'Oman': 21, 'Afghanistan': 22, 'Bahrain': 23, 'Kuwait': 24, 'Algeria': 25, 'Croatia': 26, 'Switzerland': 27, 'Austria': 28, 'Israel': 29, 'Pakistan': 30, 'Brazil': 31, 'Georgia': 32, 'Greece': 33, 'North Macedonia': 34, 'Norway': 35, 'Romania': 36, 'Estonia': 37, 'San Marino': 38, 'Belarus': 39, 'Iceland': 40, 'Lithuania': 41, 'Mexico': 42, 'New Zealand': 43, 'Nigeria': 44, 'Ireland': 45, 'Luxembourg': 46, 'Monaco': 47, 'Qatar': 48, 'Ecuador': 49, 'Azerbaijan': 50, 'Armenia': 51, 'Dominican Republic': 52, 'Indonesia': 53, 'Portugal': 54, 'Andorra': 55, 'Latvia': 56, 'Morocco': 57, 'Saudi Arabia': 58, 'Senegal': 59, 'Argentina': 60, 'Chile': 61, 'Jordan': 62, 'Ukraine': 63, 'Hungary': 64, 'Liechtenstein': 65, 'Poland': 66, 'Tunisia': 67, 'Bosnia and Herzegovina': 68, 'Slovenia': 69, 'South Africa': 70, 'Bhutan': 71, 'Cameroon': 72, 'Colombia': 73, 'Costa Rica': 74, 'Peru': 75, 'Serbia': 76, 'Slovakia': 77, 'Togo': 78, 'Malta': 79, 'Martinique': 80, 'Bulgaria': 81, 'Maldives': 82, 'Bangladesh': 83, 'Paraguay': 84, 'Albania': 85, 'Cyprus': 86, 'Brunei': 87, 'US': 88, 'Burkina Faso': 89, 'Holy See': 90, 'Mongolia': 91, 'Panama': 92, 'China': 93, 'Iran': 94, 'Korea, South': 95, 'France': 96, 'Cruise Ship': 97, 'Denmark': 98, 'Czechia': 99, 'Taiwan*': 100, 'Vietnam': 101, 'Russia': 102, 'Moldova': 103, 'Bolivia': 104, 'Honduras': 105, 'United Kingdom': 106, 'Congo (Kinshasa)': 107, \"Cote d'Ivoire\": 108, 'Jamaica': 109, 'Turkey': 110, 'Cuba': 111, 'Guyana': 112, 'Kazakhstan': 113, 'Ethiopia': 114, 'Sudan': 115, 'Guinea': 116, 'Kenya': 117, 'Antigua and Barbuda': 118, 'Uruguay': 119, 'Ghana': 120, 'Namibia': 121, 'Seychelles': 122, 'Trinidad and Tobago': 123},\n",
       "      dtype=object)"
      ]
     },
     "execution_count": 31,
     "metadata": {},
     "output_type": "execute_result"
    }
   ],
   "source": [
    "npzfile['numbered']"
   ]
  },
  {
   "cell_type": "code",
   "execution_count": null,
   "metadata": {},
   "outputs": [],
   "source": []
  }
 ],
 "metadata": {
  "kernelspec": {
   "display_name": "Python 3",
   "language": "python",
   "name": "python3"
  },
  "language_info": {
   "codemirror_mode": {
    "name": "ipython",
    "version": 3
   },
   "file_extension": ".py",
   "mimetype": "text/x-python",
   "name": "python",
   "nbconvert_exporter": "python",
   "pygments_lexer": "ipython3",
   "version": "3.7.5"
  }
 },
 "nbformat": 4,
 "nbformat_minor": 2
}
