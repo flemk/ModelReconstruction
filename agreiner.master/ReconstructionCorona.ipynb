{
 "cells": [
  {
   "cell_type": "markdown",
   "metadata": {},
   "source": [
    "# Reconstruction of systems of 1st order linear DEs by multiple time series\n",
    "\n",
    "The method of choice is the analysis givven in [1,2] for time series' in a high dimensional space. First we explain the 1D approach by means of a Principle Component Analysis.\n",
    "\n",
    "The basic principle is best explained in a 1D system. Given a time series $x(t)$ we are looking for a DE $\\dot y(t)=f(y)$ which by integration reproduces the time series $x(t)$. To this end we minimize the mean square deviation\n",
    "$$ W=\\langle (\\dot x(t)-f(x(t))^2\\rangle $$\n",
    "where\n",
    "$$ \\langle W(t)\\rangle = \\frac{1}{t_1-t_0}\\int\\limits_{t_0}^{t_1} W(t)dt $$\n",
    "For $f(x(t))$ we make an ansatz $f(x(t))=\\sum_i a_i\\phi_i(x(t))$. Minimizing $W(t)$ gives the $a_i$ by $\\frac{\\partial W}{\\partial a_i}=0$ to yield\n",
    "$$ a_i=\\langle \\dot x\\phi_j(x)\\rangle D^{-1}_{ji}\\mbox{ where } D_{ij}=\\langle \\phi_i(x)\\phi_j(x)\\rangle $$\n",
    "\n",
    "For high dimensional Systems we introduce the coupling of the time series'. Given a high dimensional signal $\\mathbf{x}(t)$ we want to find the corresponding equation of motion. In this case we have for the component $i$ of the vector $\\mathbf{f}$\n",
    "$$ f_i(\\mathbf{x}) = a^{ij}x_j+a^{ijk}x_jx_k\\dots$$\n",
    "\n",
    "\n",
    "[1]  K. Karhunen, \"Zur Spektraltheorie stochastischer Prozesse,\" Ann. Acad. Sci. Fenn. A1, Math. Phys. 37 (1946)\n",
    "\n",
    "[2] C. Uhl, Analyse raumzeitlicher Daten strukturbildender Systeme, Verlag Shaker (1995)"
   ]
  },
  {
   "cell_type": "markdown",
   "metadata": {},
   "source": [
    "Still to be found: M. Loeve, “Fonctions aleatoires de second ordre,” Comptes Rendus De L'Académie Des Sciences, vol. 220, (1945)."
   ]
  },
  {
   "cell_type": "markdown",
   "metadata": {},
   "source": [
    "### Load the respective libraries"
   ]
  },
  {
   "cell_type": "code",
   "execution_count": 2,
   "metadata": {},
   "outputs": [],
   "source": [
    "import numpy as np\n",
    "import matplotlib.pyplot as plt\n",
    "from scipy.integrate import solve_ivp\n",
    "from scipy.optimize import curve_fit"
   ]
  },
  {
   "cell_type": "markdown",
   "metadata": {},
   "source": [
    "### Get the data"
   ]
  },
  {
   "cell_type": "code",
   "execution_count": 2,
   "metadata": {},
   "outputs": [],
   "source": [
    "numbered=np.load('Numbered.npy').item()\n",
    "#\n",
    "npzfile=np.load('CDR_Data.npz')\n",
    "yC=npzfile['yC']\n",
    "yD=npzfile['yD']\n",
    "yR=npzfile['yR']\n",
    "#\n",
    "# The following should be the same for all three and is for plotting\n",
    "countries=yC.shape[0]\n",
    "x=np.arange(yC.shape[1])"
   ]
  },
  {
   "cell_type": "markdown",
   "metadata": {},
   "source": [
    "#### In case we want to check what we read we define plotting functions for the data retrieved, linear plot and log plot"
   ]
  },
  {
   "cell_type": "code",
   "execution_count": null,
   "metadata": {},
   "outputs": [],
   "source": [
    "def plotcountry(y,Country,istart,title):\n",
    "    fig, ax = plt.subplots()\n",
    "    for c in Country: \n",
    "        i=numbered[c]\n",
    "        ax.plot(x[istart:],y[i,istart:],label=c)\n",
    "    legend = ax.legend(loc='upper left', shadow=True, fontsize='x-large')\n",
    "    plt.title(title)\n",
    "    plt.xlabel('time [day]')\n",
    "    plt.ylabel('Number of cases')\n",
    "    plt.show()"
   ]
  },
  {
   "cell_type": "markdown",
   "metadata": {},
   "source": [
    "### Plot choices of data"
   ]
  },
  {
   "cell_type": "code",
   "execution_count": null,
   "metadata": {},
   "outputs": [],
   "source": [
    "%matplotlib notebook\n",
    "plotcountry(yC,['US','Germany','France'],0,'Confirmed')\n",
    "plt.savefig('Cases.png')"
   ]
  },
  {
   "cell_type": "markdown",
   "metadata": {},
   "source": [
    "# 1D System\n",
    "\n",
    "We define $\\phi_i(x)$ and calculate $D_{ij}=\\langle \\phi_i(x)\\phi_j(x)\\rangle$ as well as its inverse $D_{ij}^{-1}$"
   ]
  },
  {
   "cell_type": "code",
   "execution_count": 5,
   "metadata": {},
   "outputs": [],
   "source": [
    "# Monomials\n",
    "def phi(i,x):\n",
    "    return x**i\n",
    "# Matrix D\n",
    "def CalculateDij(n):\n",
    "    Dij=np.zeros((n,n))\n",
    "    for i in np.arange(n):\n",
    "        for j in np.arange(i):\n",
    "            Dij[i,j]=np.einsum('i,i',phi(i,x),phi(j,x))/len(x)\n",
    "            Dij[j,i]=Dij[i,j]\n",
    "        Dij[i,i]=np.einsum('i,i',phi(i,x),phi(i,x))/len(x)\n",
    "    return np.linalg.inv(Dij)\n",
    "# Define r.h.s. of DE\n",
    "def f(t,y):\n",
    "    return np.sum([ai[i]*phi(i,y) for i in np.arange(4)],axis=0)"
   ]
  },
  {
   "cell_type": "code",
   "execution_count": 7,
   "metadata": {},
   "outputs": [],
   "source": [
    "country='Germany'\n",
    "xoft=yC[numbered[country]]\n",
    "# b=np.asarray(np.where(xoft<1))\n",
    "# xoft=np.delete(xoft,np.arange(b[0,-1]+1))\n",
    "# x=np.delete(x,np.arange(b[0,-1]+1))\n",
    "InvDij=CalculateDij(4)\n",
    "xdot=np.gradient(xoft,edge_order=2)\n",
    "A=[np.einsum('i,i',xdot,phi(i,xoft))/len(xoft) for i in np.arange(4)]\n",
    "ai=np.einsum('j,ji->i',A,InvDij)"
   ]
  },
  {
   "cell_type": "code",
   "execution_count": 32,
   "metadata": {},
   "outputs": [],
   "source": [
    "#\n",
    "b=np.asarray(np.where(yC[60]<1))\n",
    "t0=np.reshape(b,(b.shape[1]))[-1]\n",
    "y0=1.0\n",
    "sol=solve_ivp(func,[0.,len(x)],[0.0],method='RK45',dense_output=True)"
   ]
  },
  {
   "cell_type": "code",
   "execution_count": null,
   "metadata": {},
   "outputs": [],
   "source": [
    "%matplotlib notebook\n",
    "plt.plot(x,f(1,x))"
   ]
  },
  {
   "cell_type": "code",
   "execution_count": null,
   "metadata": {},
   "outputs": [],
   "source": []
  },
  {
   "cell_type": "code",
   "execution_count": 33,
   "metadata": {},
   "outputs": [
    {
     "data": {
      "text/plain": [
       "[<matplotlib.lines.Line2D at 0x11c343c90>]"
      ]
     },
     "execution_count": 33,
     "metadata": {},
     "output_type": "execute_result"
    },
    {
     "data": {
      "image/png": "[encoded data removed]",
      "text/plain": [
       "<Figure size 432x288 with 1 Axes>"
      ]
     },
     "metadata": {
      "needs_background": "light"
     },
     "output_type": "display_data"
    }
   ],
   "source": [
    "plt.plot(func(1,x))"
   ]
  },
  {
   "cell_type": "code",
   "execution_count": 30,
   "metadata": {},
   "outputs": [
    {
     "data": {
      "text/plain": [
       "array([ 2.03342708e-20,  3.52466829e-01, -1.25536330e-05,  1.64056202e-10])"
      ]
     },
     "execution_count": 30,
     "metadata": {},
     "output_type": "execute_result"
    }
   ],
   "source": [
    "# Define the model function $e^{a\\cdot (x-x_0)}$\n",
    "def fit(x,a0,a1,a2,a3):\n",
    "    return a0+a1*x+a2*x**2+a3*x**3\n",
    "# Fit to the model\n",
    "country='Germany'\n",
    "xoft=yC[numbered[country]]\n",
    "xdot=np.gradient(xoft,edge_order=2)\n",
    "#\n",
    "bounds=([0,-np.inf,-np.inf,-np.inf],[np.inf,np.inf,np.inf,np.inf])\n",
    "popt,pcov = curve_fit(fit,xoft,xdot,p0=None,absolute_sigma=False,check_finite=True,bounds=bounds)\n",
    "popt"
   ]
  },
  {
   "cell_type": "code",
   "execution_count": 19,
   "metadata": {},
   "outputs": [
    {
     "data": {
      "text/plain": [
       "array([-1.91870883e+01, -1.91870883e+01, -1.91870883e+01, -1.91870883e+01,\n",
       "       -1.91870883e+01, -1.88284011e+01, -1.77524954e+01, -1.77524954e+01,\n",
       "       -1.77524954e+01, -1.73939120e+01, -1.63183176e+01, -1.56013844e+01,\n",
       "       -1.48845550e+01, -1.48845550e+01, -1.48845550e+01, -1.48845550e+01,\n",
       "       -1.45261792e+01, -1.45261792e+01, -1.41678294e+01, -1.41678294e+01,\n",
       "       -1.34512075e+01, -1.34512075e+01, -1.34512075e+01, -1.34512075e+01,\n",
       "       -1.34512075e+01, -1.34512075e+01, -1.34512075e+01, -1.34512075e+01,\n",
       "       -1.34512075e+01, -1.34512075e+01, -1.34512075e+01, -1.34512075e+01,\n",
       "       -1.34512075e+01, -1.34512075e+01, -1.30929354e+01, -9.51164126e+00,\n",
       "       -2.71432395e+00, -1.99936101e+00,  9.06931991e+00,  2.72250017e+01,\n",
       "        3.75188618e+01,  5.06209220e+01,  7.39046702e+01,  1.50710839e+02,\n",
       "        2.15368481e+02,  2.59217686e+02,  3.40018840e+02,  3.84977399e+02,\n",
       "        4.76423115e+02,  6.19165481e+02,  6.71699610e+02,  1.13230772e+03,\n",
       "        1.36921914e+03,  1.65714125e+03,  1.96913493e+03,  2.32562258e+03,\n",
       "        2.75253788e+03,  3.04834528e+03,  3.33189035e+03,  3.42919026e+03,\n",
       "        3.51891939e+03,  3.66311330e+03,  3.86105392e+03])"
      ]
     },
     "execution_count": 19,
     "metadata": {},
     "output_type": "execute_result"
    }
   ],
   "source": [
    "fit(xoft,popt[0],popt[1],popt[2],popt[3])"
   ]
  },
  {
   "cell_type": "code",
   "execution_count": 31,
   "metadata": {},
   "outputs": [],
   "source": [
    "def func(t,x):\n",
    "    return popt[0]+popt[1]*x+popt[2]*x**2+popt[3]*x**3"
   ]
  },
  {
   "cell_type": "code",
   "execution_count": 24,
   "metadata": {},
   "outputs": [
    {
     "data": {
      "text/plain": [
       "(array([0, 1, 2, 3, 4]),)"
      ]
     },
     "execution_count": 24,
     "metadata": {},
     "output_type": "execute_result"
    }
   ],
   "source": [
    "np.where(xoft<1)"
   ]
  },
  {
   "cell_type": "code",
   "execution_count": 28,
   "metadata": {},
   "outputs": [],
   "source": [
    "b=np.asarray(np.where(xoft<1))"
   ]
  },
  {
   "cell_type": "code",
   "execution_count": 35,
   "metadata": {},
   "outputs": [
    {
     "data": {
      "text/plain": [
       "array([1.0000e+00, 4.0000e+00, 4.0000e+00, 4.0000e+00, 5.0000e+00,\n",
       "       8.0000e+00, 1.0000e+01, 1.2000e+01, 1.2000e+01, 1.2000e+01,\n",
       "       1.2000e+01, 1.3000e+01, 1.3000e+01, 1.4000e+01, 1.4000e+01,\n",
       "       1.6000e+01, 1.6000e+01, 1.6000e+01, 1.6000e+01, 1.6000e+01,\n",
       "       1.6000e+01, 1.6000e+01, 1.6000e+01, 1.6000e+01, 1.6000e+01,\n",
       "       1.6000e+01, 1.6000e+01, 1.6000e+01, 1.6000e+01, 1.7000e+01,\n",
       "       2.7000e+01, 4.6000e+01, 4.8000e+01, 7.9000e+01, 1.3000e+02,\n",
       "       1.5900e+02, 1.9600e+02, 2.6200e+02, 4.8200e+02, 6.7000e+02,\n",
       "       7.9900e+02, 1.0400e+03, 1.1760e+03, 1.4570e+03, 1.9080e+03,\n",
       "       2.0780e+03, 3.6750e+03, 4.5850e+03, 5.7950e+03, 7.2720e+03,\n",
       "       9.2570e+03, 1.2327e+04, 1.5320e+04, 1.9848e+04, 2.2213e+04,\n",
       "       2.4873e+04, 2.9056e+04, 3.2986e+04])"
      ]
     },
     "execution_count": 35,
     "metadata": {},
     "output_type": "execute_result"
    }
   ],
   "source": [
    "np.delete(xoft,b)"
   ]
  },
  {
   "cell_type": "code",
   "execution_count": 34,
   "metadata": {},
   "outputs": [
    {
     "data": {
      "text/plain": [
       "array([0.0000e+00, 0.0000e+00, 0.0000e+00, 0.0000e+00, 0.0000e+00,\n",
       "       1.0000e+00, 4.0000e+00, 4.0000e+00, 4.0000e+00, 5.0000e+00,\n",
       "       8.0000e+00, 1.0000e+01, 1.2000e+01, 1.2000e+01, 1.2000e+01,\n",
       "       1.2000e+01, 1.3000e+01, 1.3000e+01, 1.4000e+01, 1.4000e+01,\n",
       "       1.6000e+01, 1.6000e+01, 1.6000e+01, 1.6000e+01, 1.6000e+01,\n",
       "       1.6000e+01, 1.6000e+01, 1.6000e+01, 1.6000e+01, 1.6000e+01,\n",
       "       1.6000e+01, 1.6000e+01, 1.6000e+01, 1.6000e+01, 1.7000e+01,\n",
       "       2.7000e+01, 4.6000e+01, 4.8000e+01, 7.9000e+01, 1.3000e+02,\n",
       "       1.5900e+02, 1.9600e+02, 2.6200e+02, 4.8200e+02, 6.7000e+02,\n",
       "       7.9900e+02, 1.0400e+03, 1.1760e+03, 1.4570e+03, 1.9080e+03,\n",
       "       2.0780e+03, 3.6750e+03, 4.5850e+03, 5.7950e+03, 7.2720e+03,\n",
       "       9.2570e+03, 1.2327e+04, 1.5320e+04, 1.9848e+04, 2.2213e+04,\n",
       "       2.4873e+04, 2.9056e+04, 3.2986e+04])"
      ]
     },
     "execution_count": 34,
     "metadata": {},
     "output_type": "execute_result"
    }
   ],
   "source": [
    "xoft"
   ]
  },
  {
   "cell_type": "code",
   "execution_count": 3,
   "metadata": {},
   "outputs": [
    {
     "ename": "NameError",
     "evalue": "name 'x' is not defined",
     "output_type": "error",
     "traceback": [
      "\u001b[0;31m---------------------------------------------------------------------------\u001b[0m",
      "\u001b[0;31mNameError\u001b[0m                                 Traceback (most recent call last)",
      "\u001b[0;32m<ipython-input-3-7c0df4817fb5>\u001b[0m in \u001b[0;36m<module>\u001b[0;34m()\u001b[0m\n\u001b[0;32m----> 1\u001b[0;31m \u001b[0mnp\u001b[0m\u001b[0;34m.\u001b[0m\u001b[0mconcatenate\u001b[0m\u001b[0;34m(\u001b[0m\u001b[0mx\u001b[0m\u001b[0;34m,\u001b[0m\u001b[0my\u001b[0m\u001b[0;34m)\u001b[0m\u001b[0;34m\u001b[0m\u001b[0;34m\u001b[0m\u001b[0m\n\u001b[0m",
      "\u001b[0;31mNameError\u001b[0m: name 'x' is not defined"
     ]
    }
   ],
   "source": []
  },
  {
   "cell_type": "code",
   "execution_count": null,
   "metadata": {},
   "outputs": [],
   "source": []
  }
 ],
 "metadata": {
  "kernelspec": {
   "display_name": "Python 3",
   "language": "python",
   "name": "python3"
  },
  "language_info": {
   "codemirror_mode": {
    "name": "ipython",
    "version": 3
   },
   "file_extension": ".py",
   "mimetype": "text/x-python",
   "name": "python",
   "nbconvert_exporter": "python",
   "pygments_lexer": "ipython3",
   "version": "3.7.5"
  }
 },
 "nbformat": 4,
 "nbformat_minor": 2
}
