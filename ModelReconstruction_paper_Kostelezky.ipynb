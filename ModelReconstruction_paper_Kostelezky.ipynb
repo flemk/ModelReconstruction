{
 "cells": [
  {
   "cell_type": "markdown",
   "metadata": {},
   "source": [
    "# Model-Reconstruction\n",
    "Retrieving sytem-dynamics from its time-series based on stochastic-analysis and reconstruction of the system by those. Aditionally solving of the systems Fokker-Planck-equation.\n",
    "\n",
    "Franz Ludwig Kostelezky, <info@kostelezky.com>\n",
    "\\\n",
    "Albert-Ludwigs-University Freiburg, Germany\n",
    "\\\n",
    "IMTEK, professorship of simulation"
   ]
  },
  {
   "cell_type": "markdown",
   "metadata": {},
   "source": [
    "## Abstract\n",
    "The method of analysis of stochastic processes proposed in Ref. [1] is applied on two Langevin-equation-systems: The harmonic- and the Van-der-Pol-oscillator. Via the statistical definition [2] of the systems Fokker-Planck equation, drift and diffusion coefficients will be estimated. Further on the results derived by this method will be compared to the analytical result. Additionally the Fokker-Planck-equation of the systems will besolved using the estimated coefficients."
   ]
  },
  {
   "cell_type": "markdown",
   "metadata": {},
   "source": [
    "## Method for analysis of stochastic processes\n",
    "The direct determination of drift and diffusion coefficients of a stationary continous Markovian process with uncorrelated dynamical noise from its time series is always possible, by using their statistical definition [1, 2]:\n",
    "\n",
    "$$\n",
    "D^{(1)}_{i} = \\lim_{\\tau \\to 0} \\frac{1}{\\tau} < X_i(t + \\tau) - x_i >_{X(t) = \\vec{x}}\n",
    "\\\\\n",
    "D^{(2)}_{ij} = \\lim_{\\tau \\to 0} \\frac{1}{\\tau} < (X_i(t + \\tau) - x_i)(X_j(t + \\tau) - x_j) >_{X(t) = \\vec{x}}\n",
    "$$\n",
    "\n",
    "Algorithmically, for a n-dimensional system, we can use the following code-snippets to derive the coefficients. This code was later exported to a separate module ```stanpy.py```."
   ]
  },
  {
   "cell_type": "code",
   "execution_count": null,
   "metadata": {},
   "outputs": [],
   "source": [
    "def D_1(series, dt, bins=250, tau=1, transform=None):\n",
    "    ''' Retrieving n-dimensional Drift-Coefficient\n",
    "    \n",
    "    Parameters:\n",
    "        - (array) series: array of n arrays which represent time series. n-dimensinal.\n",
    "        - (float) dt: (time) difference between the values of series.\n",
    "        - (int) bins: Number of bins. Defines the accuracy.\n",
    "        - (int) tau: Number of timesteps to derivate further.\n",
    "        - (lambda) transform: transform function to project series value to mesh.\n",
    "            default: transform = lambda x, d, b: int((x + (d/2)) * np.floor(b / d)) - 1\n",
    "        \n",
    "    Returns:\n",
    "        (array) Array of n-dim arrays, where the arrays represent the mean change of the i-th variable.\n",
    "    '''\n",
    "    dimension = len(series)\n",
    "    \n",
    "    # checking if all series have same size\n",
    "    for i in range(dimension):\n",
    "        if len(series[i]) != len(series[0]):\n",
    "            raise Exception('Not all series have the same length')\n",
    "    \n",
    "    d = [np.max(el) - np.min(el) for el in series] # offsets\n",
    "    l = [np.zeros(bins) for _ in range(dimension)] # n-dimension array\n",
    "\n",
    "    a_grid = np.meshgrid(*l) # mesh to store changes\n",
    "    b_grid = np.meshgrid(*l) # mesh to count occurences\n",
    "    \n",
    "    if transform is None:\n",
    "        transform = lambda x, d, b: int((x + (d/2)) * np.floor(b / d)) - 1\n",
    "    \n",
    "    for i in range(len(series[0][:-tau])):\n",
    "        # 1. transform series value to index value of grids\n",
    "        c = [transform(series[j][i], d[j], bins) for j in range(dimension)]\n",
    "        c = tuple(c)\n",
    "        # 2. summate changes of the series and write to mesh\n",
    "        for j in range(dimension):\n",
    "            a_grid[j][c] += series[j][i + tau] - series[j][i]\n",
    "        # 3. increment number of visits\n",
    "        for j in range(dimension):\n",
    "            b_grid[j][c] += 1\n",
    "            \n",
    "    # now calculate mean changes\n",
    "    def calculate_mean_change_recursive(s, s_, argument=1):\n",
    "        if type(s) == np.ndarray:\n",
    "            for i in range(len(s)):\n",
    "                s[i] = calculate_mean_change_recursive(s[i], s_[i], argument=argument)\n",
    "        else:\n",
    "            result = 0 if s_ == 0 else s / s_\n",
    "            return argument * result\n",
    "        return s\n",
    "    for j in range(dimension):\n",
    "        a_grid[j] = calculate_mean_change_recursive(a_grid[j], b_grid[j], argument=(1 / (tau * dt)))\n",
    "        \n",
    "    return a_grid"
   ]
  },
  {
   "cell_type": "code",
   "execution_count": null,
   "metadata": {},
   "outputs": [],
   "source": [
    "def D_2(series, dt, bins=250, tau=1, transform=None):\n",
    "    '''Retrieving n-dimensional Diffusion-Coefficient\n",
    "    \n",
    "    Parameters:\n",
    "            - (array) series: array of n arrays which represent time series. n-dimensinal.\n",
    "            - (float) dt: (time) difference between the values of series.\n",
    "            - (int) bins: Number of bins. Defines the accuracy.\n",
    "            - (int) tau: Number of timesteps to derivate further.\n",
    "            - (lambda) transform: transform function to project series value to mesh.\n",
    "                default: transform = lambda x, d, b: int((x + (d/2)) * np.floor(b / d)) - 1\n",
    "\n",
    "        Returns:\n",
    "            (array) Array of n-dim arrays, where the arrays represent the mean change of the i-th variable.\n",
    "    '''\n",
    "    dimension = len(series)\n",
    "    \n",
    "    # checking if all series have same size\n",
    "    for i in range(dimension):\n",
    "        if len(series[i]) != len(series[0]):\n",
    "            raise Exception('Not all series have the same length')\n",
    "    \n",
    "    d = [np.max(el) - np.min(el) for el in series] # offsets\n",
    "    l = [np.zeros(bins) for _ in range(dimension)] # n-dimension array\n",
    "\n",
    "    a_grid = np.meshgrid(*l) # mesh to store changes\n",
    "    b_grid = np.meshgrid(*l) # mesh to count occurences\n",
    "    \n",
    "    a_grid = [a_grid[0] for _ in range(dimension * dimension)]\n",
    "    \n",
    "    if transform is None:\n",
    "        transform = lambda x, d, b: int((x + (d/2)) * np.floor(b / d)) - 1\n",
    "    \n",
    "    for i in range(len(series[0][:-tau])):\n",
    "        # 1. transform series value to index value of grids\n",
    "        c = [transform(series[j][i], d[j], bins) for j in range(dimension)]\n",
    "        c = tuple(c)\n",
    "        # 2. summate and multiply changes of the series and write to mesh\n",
    "        for k in range(dimension):\n",
    "            for j in range(dimension):\n",
    "                d_c = k * dimension + j\n",
    "                a_grid[d_c][c] += (series[j][i + tau] - series[j][i]) * (series[k][i + tau] - series[k][i])\n",
    "        # 3. increment number of visits\n",
    "        for j in range(dimension):\n",
    "            b_grid[j][c] += 1\n",
    "            \n",
    "    # now calculate mean changes\n",
    "    def calculate_mean_change_recursive(s, s_, argument=1):\n",
    "        if type(s) == np.ndarray:\n",
    "            for i in range(len(s)):\n",
    "                s[i] = calculate_mean_change_recursive(s[i], s_[i], argument=argument)\n",
    "        else:\n",
    "            result = 0 if s_ == 0 else s / s_\n",
    "            return argument * result\n",
    "        return s\n",
    "    for j in range(dimension):\n",
    "        a_grid[j] = calculate_mean_change_recursive(a_grid[j], b_grid[j], argument=(1 / (tau * dt)))\n",
    "        \n",
    "    return a_grid"
   ]
  },
  {
   "cell_type": "markdown",
   "metadata": {},
   "source": [
    "We illustrate this method using the two dimensional Van-der-Pol oscillator, whose time series and phaseplot is shown in Fig. 1. The time series comprised 100'000 simulated periods. The corresponding equation and its parameters read:\n",
    "\n",
    "$$\n",
    "\\dot{x_1} = x_2\n",
    "\\\\\n",
    "\\dot{x_2} = \\varepsilon (1 - x_1^{2}) x_2 - \\omega^{2} x_1 + g \\Gamma(t)\n",
    "$$\n",
    "\n",
    "$\\Gamma(t)$ represents random white noise with vanishing mean $<\\Gamma(t)> = 0$. We chose the parameters as follows:\n",
    "\n",
    "$$\n",
    "\\varepsilon = 2\n",
    "\\\\\n",
    "\\omega = 3\n",
    "\\\\\n",
    "g = 10\n",
    "$$\n",
    "\n",
    "![VdP_phaseplot.png](./misc/outputs/timeseries/second/VdP_phaseplot.png)"
   ]
  },
  {
   "cell_type": "markdown",
   "metadata": {},
   "source": [
    "The estimated drift coefficients and its theoretical value are displayed together with the error in Fig. 2.\n",
    "\n",
    "![VdP_estimated_drift.png](./misc/outputs/timeseries/second/VdP_estimated_drift.png)\n",
    "\n",
    "These follow the teoretical values closely in regions visited frequently by the oscillator. In regions (bins) which are not frequently visited by the oscillator the values do not exactly match the teoretical ones. \n",
    "\n",
    "There are also some left artifacts at the boundaries. This is due to the not exact mapping of the used transform function."
   ]
  },
  {
   "cell_type": "markdown",
   "metadata": {},
   "source": [
    "Also the systems diffusion coefficients shown in Fig. 3 were estimated. Note that $D^{(2)}_{xx} = D^{(2)}_{vv} = 0$, which is why they aren't shown.\n"
   ]
  },
  {
   "cell_type": "markdown",
   "metadata": {},
   "source": [
    "Reasonably we can reconstruct a time series with identical dynamics using the estimated coefficients. The deterministic alongside the stochastic dynamics can be reconstructed using [1]:\n",
    "\n",
    "$$\n",
    "X_i(t + \\Delta t) = X_i(t)+ D_i^{(1)}(\\vec{X}(t)) \\Delta t + \\sqrt{\\Delta t} \\sum_{j=1}^i g_{ij}(\\vec{X}(t)) \\Gamma_j(t)\n",
    "$$\n",
    "\n",
    "In Fig. 4 a section of the original time series is shown alongside a reconstructed series with the estimated drift coefficient.\n",
    "\n",
    "![VdP_series_original_reconstructed.png](./misc/outputs/timeseries/second/VdP_series_original_reconstructed.png)"
   ]
  },
  {
   "cell_type": "markdown",
   "metadata": {},
   "source": [
    "## Solving the Fokker Planck equation"
   ]
  },
  {
   "cell_type": "markdown",
   "metadata": {},
   "source": [
    "## References\n",
    "[1] J.Gradisek, S.Riegert, R.Freidrich, I.Grabec, Analysis of time series from stochastic processes (PHYSICAL REVIEW E, VOLUME 62, NUMBER 3, 2000)\n",
    "\\\n",
    "[2] H. Risken, The Fokker–Planck Equation (Springer-Verlag, Berlin, 1989)."
   ]
  },
  {
   "cell_type": "code",
   "execution_count": null,
   "metadata": {},
   "outputs": [],
   "source": []
  }
 ],
 "metadata": {
  "kernelspec": {
   "display_name": "Python 3",
   "language": "python",
   "name": "python3"
  },
  "language_info": {
   "codemirror_mode": {
    "name": "ipython",
    "version": 3
   },
   "file_extension": ".py",
   "mimetype": "text/x-python",
   "name": "python",
   "nbconvert_exporter": "python",
   "pygments_lexer": "ipython3",
   "version": "3.8.2"
  }
 },
 "nbformat": 4,
 "nbformat_minor": 4
}
