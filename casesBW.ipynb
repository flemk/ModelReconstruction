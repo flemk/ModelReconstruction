{
 "cells": [
  {
   "cell_type": "code",
   "execution_count": 1,
   "metadata": {},
   "outputs": [],
   "source": [
    "import pandas as pd\n",
    "import numpy as np\n",
    "import matplotlib.pyplot as plt\n",
    "import datetime"
   ]
  },
  {
   "cell_type": "code",
   "execution_count": 2,
   "metadata": {},
   "outputs": [],
   "source": [
    "filename = 'Tabelle_Coronavirus-Faelle-BW.xlsx'\n",
    "dfi = pd.read_excel(filename, sheet_name='Infizierte Coronavirus in BW', header=None)\n",
    "dft = pd.read_excel(filename, sheet_name='Todesfälle Coronavirus in BW', header=None)"
   ]
  },
  {
   "cell_type": "code",
   "execution_count": 3,
   "metadata": {
    "scrolled": true
   },
   "outputs": [],
   "source": [
    "ctyI = np.nan_to_num(np.asarray(dfi))\n",
    "ctyT = np.nan_to_num(np.asarray(dft))\n",
    "# row 7: dates\n",
    "# row 8 to 51: regions\n",
    "    # row 18: Freiburg\n",
    "    # row 38: Ravensburg\n",
    "# row 52: sum"
   ]
  },
  {
   "cell_type": "code",
   "execution_count": 7,
   "metadata": {
    "scrolled": false
   },
   "outputs": [
    {
     "name": "stdout",
     "output_type": "stream",
     "text": [
      "I1: True\n",
      "T1: True\n",
      "dIdt: True\n",
      "checksum: True\n"
     ]
    },
    {
     "data": {
      "image/png": "[encoded data removed]",
      "text/plain": [
       "<Figure size 432x288 with 1 Axes>"
      ]
     },
     "metadata": {
      "needs_background": "light"
     },
     "output_type": "display_data"
    }
   ],
   "source": [
    "index = 37\n",
    "region = ctyI[index][0]\n",
    "title = 'Corona cases in %s' % region\n",
    "\n",
    "# calculate x data: dates\n",
    "xI = [el.day+el.month*30 if type(el) == datetime.datetime else False for el in ctyI[6]]\n",
    "xT = [el.day+el.month*30 if type(el) == datetime.datetime else False for el in ctyT[6]]\n",
    "\n",
    "# calculate trajectory points from data of given index\n",
    "yI = [el if type(el) == int else False for el in ctyI[index]]\n",
    "yT = [el if type(el) == int else False for el in ctyT[index]]\n",
    "\n",
    "# calculate total sum\n",
    "yI_total = [el for el in ctyI[51]]\n",
    "del yI_total[0]\n",
    "\n",
    "# remove first element of lists (column of regions, only str in these)\n",
    "del xI[0]\n",
    "del xT[0]\n",
    "del yI[0]\n",
    "del yT[0]\n",
    "\n",
    "# Calculate new cases per day\n",
    "dyIdt = []\n",
    "for i in range(len(yI)):\n",
    "    dyIdt.append(yI[i-1] - yI[i] if yI[i-1] > 0 else False)\n",
    "\n",
    "# Checking for mistakes\n",
    "print('I1:', len(xI) == len(yI))\n",
    "print('T1:', len(xT) == len(yT))\n",
    "print('dIdt:', len(dyIdt) == len(xI))\n",
    "checksum = 0\n",
    "for el in dyIdt:\n",
    "    checksum += el\n",
    "print(\"checksum:\", checksum == yI[0])\n",
    "\n",
    "# Plot infected, deceased and new cases per day\n",
    "plt.scatter(xI, yI, label='Infected', s=2)\n",
    "plt.scatter(xT, yT, label='Deceased', s=2)\n",
    "plt.plot(xI, dyIdt, label='new cases per day', c='g')\n",
    "plt.xlabel('Time [days]')\n",
    "plt.ylabel('Cases')\n",
    "plt.title(title)\n",
    "plt.legend(loc='upper left')\n",
    "plt.savefig('BWCases.png')"
   ]
  },
  {
   "cell_type": "code",
   "execution_count": null,
   "metadata": {
    "scrolled": true
   },
   "outputs": [],
   "source": [
    "%matplotlib notebook\n",
    "yItotal=np.flip(np.sum(ctyI,axis=0))\n",
    "gesternI=yItotal-np.roll(yItotal,1)\n",
    "gesternI[0]=0\n",
    "yTtotal=np.insert(np.flip(np.sum(ctyT,axis=0)),0,np.zeros(16))\n",
    "gesternT=yTtotal-np.roll(yTtotal,1)\n",
    "gesternT[0]=0\n",
    "plt.plot(gesternI,label='Infected')\n",
    "plt.plot(gesternT,label='Deceased')\n",
    "plt.xlabel('Time [days]')\n",
    "plt.ylabel('Increase of cases per day')\n",
    "plt.title('Corona cases in Baden-Württemberg')\n",
    "plt.legend(loc='upper left')\n",
    "plt.savefig('DeltaBWCases.png')"
   ]
  },
  {
   "cell_type": "code",
   "execution_count": null,
   "metadata": {},
   "outputs": [],
   "source": [
    "yItotal.shape\n"
   ]
  },
  {
   "cell_type": "code",
   "execution_count": null,
   "metadata": {},
   "outputs": [],
   "source": [
    "yTtotal.shape"
   ]
  },
  {
   "cell_type": "code",
   "execution_count": null,
   "metadata": {},
   "outputs": [],
   "source": [
    "ctyT.shape"
   ]
  },
  {
   "cell_type": "code",
   "execution_count": null,
   "metadata": {},
   "outputs": [],
   "source": []
  }
 ],
 "metadata": {
  "kernelspec": {
   "display_name": "Python 3",
   "language": "python",
   "name": "python3"
  },
  "language_info": {
   "codemirror_mode": {
    "name": "ipython",
    "version": 3
   },
   "file_extension": ".py",
   "mimetype": "text/x-python",
   "name": "python",
   "nbconvert_exporter": "python",
   "pygments_lexer": "ipython3",
   "version": "3.8.2"
  }
 },
 "nbformat": 4,
 "nbformat_minor": 2
}
