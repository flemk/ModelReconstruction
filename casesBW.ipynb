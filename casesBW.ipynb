{
 "cells": [
  {
   "cell_type": "markdown",
   "metadata": {},
   "source": [
    "# stochastic analysis of COVID19 time series in \"Baden-Württemberg\"\n",
    "data as of 10.06.2020 by https://sozialministerium.baden-wuerttemberg.de/de/gesundheit-pflege/gesundheitsschutz/infektionsschutz-hygiene/informationen-zu-coronavirus/lage-in-baden-wuerttemberg/\n",
    "\n",
    "algorithm from \"Analysis of time series from stochastic processes\" by J.Gradisek, S.Riegert, R.Freidrich, I.Grabec [1]"
   ]
  },
  {
   "cell_type": "code",
   "execution_count": 43,
   "metadata": {},
   "outputs": [],
   "source": [
    "import pandas as pd\n",
    "import numpy as np\n",
    "from scipy import signal, stats, integrate\n",
    "import matplotlib.pyplot as plt\n",
    "import datetime"
   ]
  },
  {
   "cell_type": "markdown",
   "metadata": {},
   "source": [
    "## 1. extract values from selected list\n",
    "variables names: *I: Infected; *T: Deceased"
   ]
  },
  {
   "cell_type": "code",
   "execution_count": 2,
   "metadata": {},
   "outputs": [],
   "source": [
    "filename = 'Tabelle_Coronavirus-Faelle-BW.xlsx'\n",
    "dfi = pd.read_excel(filename, sheet_name='Infizierte Coronavirus in BW', header=None)\n",
    "dft = pd.read_excel(filename, sheet_name='Todesfälle Coronavirus in BW', header=None)"
   ]
  },
  {
   "cell_type": "code",
   "execution_count": 3,
   "metadata": {
    "scrolled": true
   },
   "outputs": [],
   "source": [
    "ctyI = np.nan_to_num(np.asarray(dfi))\n",
    "ctyT = np.nan_to_num(np.asarray(dft))\n",
    "# row 7: dates\n",
    "# row 8 to 51: regions\n",
    "    # row 18: Freiburg\n",
    "    # row 38: Ravensburg\n",
    "# row 52: sum"
   ]
  },
  {
   "cell_type": "markdown",
   "metadata": {},
   "source": [
    "### plot regional data"
   ]
  },
  {
   "cell_type": "code",
   "execution_count": 4,
   "metadata": {
    "scrolled": false
   },
   "outputs": [
    {
     "name": "stdout",
     "output_type": "stream",
     "text": [
      "I1: True\n",
      "T1: True\n",
      "dIdt: True\n",
      "dTdt: True\n",
      "checksum I: True\n",
      "checksum T: True\n"
     ]
    }
   ],
   "source": [
    "index = 17\n",
    "region = ctyI[index][0]\n",
    "title = 'Corona cases in %s' % region\n",
    "\n",
    "# calculate x data: dates\n",
    "# currently: approximation where each month is approximated by 30 days.\n",
    "xI = [el.day+el.month*30 if type(el) == datetime.datetime else False for el in ctyI[6]]\n",
    "xT = [el.day+el.month*30 if type(el) == datetime.datetime else False for el in ctyT[6]]\n",
    "\n",
    "# calculate trajectory points from data of given index\n",
    "yI = [el if type(el) == int else False for el in ctyI[index]]\n",
    "yT = [el if type(el) == int else False for el in ctyT[index]]\n",
    "\n",
    "# remove first element of lists (column of regions, only str in these)\n",
    "del xI[0]\n",
    "del xT[0]\n",
    "del yI[0]\n",
    "del yT[0]\n",
    "\n",
    "# flip arrays\n",
    "xI = np.flip(xI)\n",
    "xT = np.flip(xT)\n",
    "yI = np.flip(yI)\n",
    "yT = np.flip(yT)\n",
    "\n",
    "# Calculate new cases per day\n",
    "dyIdt = np.diff(yI, prepend=0)\n",
    "    \n",
    "# Calculate new deaths per day\n",
    "dyTdt = np.diff(yT,prepend=0)\n",
    "\n",
    "# Checking for mistakes\n",
    "print('I1:', len(xI) == len(yI))\n",
    "print('T1:', len(xT) == len(yT))\n",
    "print('dIdt:', len(xI) == len(dyIdt))\n",
    "print('dTdt:', len(xT) == len(dyTdt))\n",
    "checksum = 0\n",
    "for el in dyIdt:\n",
    "    checksum += el\n",
    "print(\"checksum I:\", checksum == yI[-1])\n",
    "checksum = 0\n",
    "for el in dyTdt:\n",
    "    checksum += el\n",
    "print(\"checksum T:\", checksum == yT[-1])"
   ]
  },
  {
   "cell_type": "code",
   "execution_count": 5,
   "metadata": {},
   "outputs": [
    {
     "data": {
      "image/png": "[encoded data removed]",
      "text/plain": [
       "<Figure size 432x288 with 1 Axes>"
      ]
     },
     "metadata": {
      "needs_background": "light"
     },
     "output_type": "display_data"
    }
   ],
   "source": [
    "# Plot infected, deceased and new cases per day\n",
    "plt.scatter(xI, yI, label='Infected', s=2)\n",
    "plt.scatter(xT, yT, label='Deceased', s=2)\n",
    "plt.plot(xI, dyIdt, label='new cases per day', c='g')\n",
    "plt.xlabel('Time [days]')\n",
    "plt.ylabel('Cases')\n",
    "plt.title(title)\n",
    "plt.legend(loc='upper left')\n",
    "plt.show()\n",
    "#plt.savefig('%sCases.png' % region)"
   ]
  },
  {
   "cell_type": "markdown",
   "metadata": {},
   "source": [
    "### plot total data"
   ]
  },
  {
   "cell_type": "code",
   "execution_count": 6,
   "metadata": {},
   "outputs": [
    {
     "name": "stdout",
     "output_type": "stream",
     "text": [
      "I2: True\n",
      "T2: True\n",
      "dI_totaldt: True\n",
      "dT_totaldt: True\n",
      "checksum I: True\n",
      "checksum T: True\n"
     ]
    }
   ],
   "source": [
    "# calculation of x-data in cell above\n",
    "\n",
    "# calculate total sum\n",
    "yI_total = [el for el in ctyI[51]]\n",
    "yT_total = [el for el in ctyT[51]]\n",
    "\n",
    "# remove first element of lists (column of regions, only str in these)\n",
    "del yI_total[0]\n",
    "del yT_total[0]\n",
    "\n",
    "# flip arrays\n",
    "yI_total = np.flip(yI_total)\n",
    "yT_total = np.flip(yT_total)\n",
    "\n",
    "# Calculate new cases per day\n",
    "dyI_totaldt = np.diff(yI_total, prepend=0)\n",
    "    \n",
    "# Calculate new deaths per day\n",
    "dyT_totaldt = np.diff(yT_total, prepend=0)\n",
    "    \n",
    "# Checking for mistakes\n",
    "print('I2:', len(xI) == len(yI_total))\n",
    "print('T2:', len(xT) == len(yT_total))\n",
    "print('dI_totaldt:', len(xI) == len(dyI_totaldt))\n",
    "print('dT_totaldt:', len(xT) == len(dyT_totaldt))\n",
    "checksum = 0\n",
    "for el in dyI_totaldt:\n",
    "    checksum += el\n",
    "print(\"checksum I:\", checksum == yI_total[-1])\n",
    "checksum = 0\n",
    "for el in dyT_totaldt:\n",
    "    checksum += el\n",
    "print(\"checksum T:\", checksum == yT_total[-1])"
   ]
  },
  {
   "cell_type": "code",
   "execution_count": 7,
   "metadata": {
    "scrolled": true
   },
   "outputs": [
    {
     "data": {
      "image/png": "[encoded data removed]",
      "text/plain": [
       "<Figure size 432x288 with 1 Axes>"
      ]
     },
     "metadata": {
      "needs_background": "light"
     },
     "output_type": "display_data"
    }
   ],
   "source": [
    "# Plot infected, deceased and new cases per day\n",
    "plt.scatter(xI, yI_total, label='Total infected', s=2)\n",
    "plt.scatter(xT, yT_total, label='Total deceased', s=2)\n",
    "plt.plot(xI, dyI_totaldt, label='new cases per day', c='g')\n",
    "plt.xlabel('Time [days]')\n",
    "plt.ylabel('Cases')\n",
    "plt.title('total Corona cases Baden-Württemberg')\n",
    "plt.legend(loc='upper left')\n",
    "plt.show()\n",
    "#plt.savefig('BWCases.png')"
   ]
  },
  {
   "cell_type": "markdown",
   "metadata": {},
   "source": [
    "## 2. stochastic analysis"
   ]
  },
  {
   "cell_type": "markdown",
   "metadata": {},
   "source": [
    "### conditional probability function"
   ]
  },
  {
   "cell_type": "code",
   "execution_count": 142,
   "metadata": {},
   "outputs": [],
   "source": [
    "class Probability:\n",
    "    def __init__(self, saving=True):\n",
    "        '''Collective of in this scope used probability functions\n",
    "        \n",
    "        Properties:\n",
    "            - (bool) saving: Defines wheter results should be saved or not.\n",
    "                If used, it'll reduce runtime.\n",
    "        '''\n",
    "        self.saving = saving\n",
    "        self.saved = {}\n",
    "        \n",
    "    def reset_saved(self, specific=False, all=True):\n",
    "        '''Resets specific or all saved values in self.saved.\n",
    "        \n",
    "        Parameters:\n",
    "            - (list) specific: If set all list elements which are also\n",
    "                represented in self.saved will be removed.\n",
    "            - (bool) all: If True all entries in self.saved will be deleted.\n",
    "        '''\n",
    "        if (specific):\n",
    "            for el in specific:\n",
    "                del self.saved[el]\n",
    "        elif (all):\n",
    "            self.saved = {}\n",
    "    \n",
    "    def P_x(self, x):\n",
    "        '''Probability Distribution\n",
    "    \n",
    "        Returns the probability for x having the value x_val.\n",
    "    \n",
    "        Parameters:\n",
    "            - (float) x: The value to search for.\n",
    "        \n",
    "        Inherited as P_x(y, t) from [2].\n",
    "        \n",
    "        ______________________________________________________________________________\n",
    "        As for test purposes this function returns a gaussian distribution as default.\n",
    "        '''\n",
    "        mu = 0 # mean deviation\n",
    "        sigma = 0.1 # standard deviation\n",
    "        size = 1000\n",
    "        s = np.random.normal(mu, sigma, size)\n",
    "\n",
    "        # Save distribution if it is intended.\n",
    "        #self.saved['P_x'] = s if self.saving else None\n",
    "            \n",
    "        return s\n",
    "    \n",
    "    def P_1(self, y, y_val, t):\n",
    "        '''Probability Distribution function\n",
    "        inherited from (9.54)[2]\n",
    "    \n",
    "        Calculates the probability distribution for y having the value y_val.\n",
    "        at time t.\n",
    "    \n",
    "        Parameters:\n",
    "            - (np.array) y: time series.\n",
    "            - (float) y_val: the value y shall have at time t.\n",
    "            - (int) t: time to be examined.\n",
    "        '''\n",
    "        if (y_val - y[t] == 0):\n",
    "            return P_x(y, y_val)\n",
    "        else:\n",
    "            return 0\n",
    "\n",
    "    def P_comp(self, y, y_val, t):\n",
    "        '''Compound Probability function\n",
    "        inherited from (9.55)[2]\n",
    "    \n",
    "        Parameters:\n",
    "            - (np.array) y: time series.\n",
    "            - (np.array) y_val: values y shall have at times t.\n",
    "            - (np.array) t: times.\n",
    "        \n",
    "        Requirements:\n",
    "            >>> len(y_val) == len(t)\n",
    "        '''\n",
    "        print(len(y_val), len(t))\n",
    "        if (len(y_val) != len(t)):\n",
    "            raise TypeError(\"y_val and t must have the same size.\")\n",
    "    \n",
    "        result = 0\n",
    "        r = True\n",
    "        for i in range(len(y_val)):\n",
    "            if (y_val[i] - y[t[i]] != 0):\n",
    "                r = False\n",
    "                break;\n",
    "            else:\n",
    "                result += self.P_x(y)[y_val[i]]\n",
    "            \n",
    "        return result if r else 0\n",
    "\n",
    "    def P_cond(self, y, y_val, t, y_val_, t_):\n",
    "        '''Conditional Probabilty function\n",
    "        inherited from (9.58)[2]\n",
    "    \n",
    "        Conditional Probability is the probability-density for Y having at time t_2 the value y_2\n",
    "        when at time t_1 the value y_1 was present.\n",
    "        '''\n",
    "        denominator = self.P_comp(y, y_val, t)\n",
    "        nominator = self.P_comp(y, y_val_, t_)\n",
    "    \n",
    "        result = nominator / denominator\n",
    "        return result"
   ]
  },
  {
   "cell_type": "code",
   "execution_count": 143,
   "metadata": {
    "scrolled": false
   },
   "outputs": [
    {
     "data": {
      "image/png": "[encoded data removed]",
      "text/plain": [
       "<Figure size 432x288 with 1 Axes>"
      ]
     },
     "metadata": {
      "needs_background": "light"
     },
     "output_type": "display_data"
    }
   ],
   "source": [
    "#Creating noised HO data\n",
    "epsilon = 10e-3\n",
    "tau = 1000\n",
    "r = np.linspace(0, 2*np.pi, num=tau)\n",
    "x = [np.sin(t) + np.random.randn() * epsilon for t in r]\n",
    "v = [np.cos(t) + np.random.randn() * epsilon for t in r]\n",
    "plt.clf()\n",
    "plt.plot(x)\n",
    "plt.plot(v)\n",
    "plt.show()"
   ]
  },
  {
   "cell_type": "markdown",
   "metadata": {},
   "source": [
    "### determine drift- and diffusion-coefficients"
   ]
  },
  {
   "cell_type": "code",
   "execution_count": 148,
   "metadata": {},
   "outputs": [],
   "source": [
    "def T_1(series, x, t, i, tau):\n",
    "    p = Probability()\n",
    "    \n",
    "    #where does y come from?\n",
    "    \n",
    "    y_i = y[i]\n",
    "    x_i = x[i]\n",
    "    \n",
    "    t_ = [el + tau for el in t]\n",
    "    \n",
    "    integrand = lambda y: (y_i - x_i) * p.P_cond(series, [y], t_, x, t)\n",
    "    integratum = integrate.quad(integrand, -np.inf, np.inf) #über y wird integriert\n",
    "    result = (1 / tau) * integratum\n",
    "    return result"
   ]
  },
  {
   "cell_type": "code",
   "execution_count": 149,
   "metadata": {
    "scrolled": false
   },
   "outputs": [
    {
     "name": "stdout",
     "output_type": "stream",
     "text": [
      "1 1\n",
      "1000 1\n"
     ]
    },
    {
     "ename": "TypeError",
     "evalue": "y_val and t must have the same size.",
     "output_type": "error",
     "traceback": [
      "\u001b[1;31m---------------------------------------------------------------------------\u001b[0m",
      "\u001b[1;31mTypeError\u001b[0m                                 Traceback (most recent call last)",
      "\u001b[1;32m<ipython-input-149-d6ae886cc27b>\u001b[0m in \u001b[0;36m<module>\u001b[1;34m\u001b[0m\n\u001b[0;32m      5\u001b[0m \u001b[0mseries\u001b[0m \u001b[1;33m=\u001b[0m \u001b[0mx\u001b[0m\u001b[1;33m\u001b[0m\u001b[1;33m\u001b[0m\u001b[0m\n\u001b[0;32m      6\u001b[0m \u001b[0mtau\u001b[0m \u001b[1;33m=\u001b[0m \u001b[1;36m1\u001b[0m\u001b[1;33m\u001b[0m\u001b[1;33m\u001b[0m\u001b[0m\n\u001b[1;32m----> 7\u001b[1;33m \u001b[0mT_1\u001b[0m\u001b[1;33m(\u001b[0m\u001b[0mseries\u001b[0m\u001b[1;33m,\u001b[0m \u001b[0mx\u001b[0m\u001b[1;33m,\u001b[0m \u001b[0mt\u001b[0m\u001b[1;33m,\u001b[0m \u001b[0mi\u001b[0m\u001b[1;33m,\u001b[0m \u001b[0mtau\u001b[0m\u001b[1;33m)\u001b[0m\u001b[1;33m\u001b[0m\u001b[1;33m\u001b[0m\u001b[0m\n\u001b[0m",
      "\u001b[1;32m<ipython-input-148-957e955af3f1>\u001b[0m in \u001b[0;36mT_1\u001b[1;34m(series, x, t, i, tau)\u001b[0m\n\u001b[0;32m     10\u001b[0m \u001b[1;33m\u001b[0m\u001b[0m\n\u001b[0;32m     11\u001b[0m     \u001b[0mintegrand\u001b[0m \u001b[1;33m=\u001b[0m \u001b[1;32mlambda\u001b[0m \u001b[0my\u001b[0m\u001b[1;33m:\u001b[0m \u001b[1;33m(\u001b[0m\u001b[0my_i\u001b[0m \u001b[1;33m-\u001b[0m \u001b[0mx_i\u001b[0m\u001b[1;33m)\u001b[0m \u001b[1;33m*\u001b[0m \u001b[0mp\u001b[0m\u001b[1;33m.\u001b[0m\u001b[0mP_cond\u001b[0m\u001b[1;33m(\u001b[0m\u001b[0mseries\u001b[0m\u001b[1;33m,\u001b[0m \u001b[1;33m[\u001b[0m\u001b[0my\u001b[0m\u001b[1;33m]\u001b[0m\u001b[1;33m,\u001b[0m \u001b[0mt_\u001b[0m\u001b[1;33m,\u001b[0m \u001b[0mx\u001b[0m\u001b[1;33m,\u001b[0m \u001b[0mt\u001b[0m\u001b[1;33m)\u001b[0m\u001b[1;33m\u001b[0m\u001b[1;33m\u001b[0m\u001b[0m\n\u001b[1;32m---> 12\u001b[1;33m     \u001b[0mintegratum\u001b[0m \u001b[1;33m=\u001b[0m \u001b[0mintegrate\u001b[0m\u001b[1;33m.\u001b[0m\u001b[0mquad\u001b[0m\u001b[1;33m(\u001b[0m\u001b[0mintegrand\u001b[0m\u001b[1;33m,\u001b[0m \u001b[1;33m-\u001b[0m\u001b[0mnp\u001b[0m\u001b[1;33m.\u001b[0m\u001b[0minf\u001b[0m\u001b[1;33m,\u001b[0m \u001b[0mnp\u001b[0m\u001b[1;33m.\u001b[0m\u001b[0minf\u001b[0m\u001b[1;33m)\u001b[0m \u001b[1;31m#über y wird integriert\u001b[0m\u001b[1;33m\u001b[0m\u001b[1;33m\u001b[0m\u001b[0m\n\u001b[0m\u001b[0;32m     13\u001b[0m     \u001b[0mresult\u001b[0m \u001b[1;33m=\u001b[0m \u001b[1;33m(\u001b[0m\u001b[1;36m1\u001b[0m \u001b[1;33m/\u001b[0m \u001b[0mtau\u001b[0m\u001b[1;33m)\u001b[0m \u001b[1;33m*\u001b[0m \u001b[0mintegratum\u001b[0m\u001b[1;33m\u001b[0m\u001b[1;33m\u001b[0m\u001b[0m\n\u001b[0;32m     14\u001b[0m     \u001b[1;32mreturn\u001b[0m \u001b[0mresult\u001b[0m\u001b[1;33m\u001b[0m\u001b[1;33m\u001b[0m\u001b[0m\n",
      "\u001b[1;32mc:\\users\\franz\\appdata\\local\\programs\\python\\python38-32\\lib\\site-packages\\scipy\\integrate\\quadpack.py\u001b[0m in \u001b[0;36mquad\u001b[1;34m(func, a, b, args, full_output, epsabs, epsrel, limit, points, weight, wvar, wopts, maxp1, limlst)\u001b[0m\n\u001b[0;32m    339\u001b[0m \u001b[1;33m\u001b[0m\u001b[0m\n\u001b[0;32m    340\u001b[0m     \u001b[1;32mif\u001b[0m \u001b[0mweight\u001b[0m \u001b[1;32mis\u001b[0m \u001b[1;32mNone\u001b[0m\u001b[1;33m:\u001b[0m\u001b[1;33m\u001b[0m\u001b[1;33m\u001b[0m\u001b[0m\n\u001b[1;32m--> 341\u001b[1;33m         retval = _quad(func, a, b, args, full_output, epsabs, epsrel, limit,\n\u001b[0m\u001b[0;32m    342\u001b[0m                        points)\n\u001b[0;32m    343\u001b[0m     \u001b[1;32melse\u001b[0m\u001b[1;33m:\u001b[0m\u001b[1;33m\u001b[0m\u001b[1;33m\u001b[0m\u001b[0m\n",
      "\u001b[1;32mc:\\users\\franz\\appdata\\local\\programs\\python\\python38-32\\lib\\site-packages\\scipy\\integrate\\quadpack.py\u001b[0m in \u001b[0;36m_quad\u001b[1;34m(func, a, b, args, full_output, epsabs, epsrel, limit, points)\u001b[0m\n\u001b[0;32m    453\u001b[0m             \u001b[1;32mreturn\u001b[0m \u001b[0m_quadpack\u001b[0m\u001b[1;33m.\u001b[0m\u001b[0m_qagse\u001b[0m\u001b[1;33m(\u001b[0m\u001b[0mfunc\u001b[0m\u001b[1;33m,\u001b[0m\u001b[0ma\u001b[0m\u001b[1;33m,\u001b[0m\u001b[0mb\u001b[0m\u001b[1;33m,\u001b[0m\u001b[0margs\u001b[0m\u001b[1;33m,\u001b[0m\u001b[0mfull_output\u001b[0m\u001b[1;33m,\u001b[0m\u001b[0mepsabs\u001b[0m\u001b[1;33m,\u001b[0m\u001b[0mepsrel\u001b[0m\u001b[1;33m,\u001b[0m\u001b[0mlimit\u001b[0m\u001b[1;33m)\u001b[0m\u001b[1;33m\u001b[0m\u001b[1;33m\u001b[0m\u001b[0m\n\u001b[0;32m    454\u001b[0m         \u001b[1;32melse\u001b[0m\u001b[1;33m:\u001b[0m\u001b[1;33m\u001b[0m\u001b[1;33m\u001b[0m\u001b[0m\n\u001b[1;32m--> 455\u001b[1;33m             \u001b[1;32mreturn\u001b[0m \u001b[0m_quadpack\u001b[0m\u001b[1;33m.\u001b[0m\u001b[0m_qagie\u001b[0m\u001b[1;33m(\u001b[0m\u001b[0mfunc\u001b[0m\u001b[1;33m,\u001b[0m\u001b[0mbound\u001b[0m\u001b[1;33m,\u001b[0m\u001b[0minfbounds\u001b[0m\u001b[1;33m,\u001b[0m\u001b[0margs\u001b[0m\u001b[1;33m,\u001b[0m\u001b[0mfull_output\u001b[0m\u001b[1;33m,\u001b[0m\u001b[0mepsabs\u001b[0m\u001b[1;33m,\u001b[0m\u001b[0mepsrel\u001b[0m\u001b[1;33m,\u001b[0m\u001b[0mlimit\u001b[0m\u001b[1;33m)\u001b[0m\u001b[1;33m\u001b[0m\u001b[1;33m\u001b[0m\u001b[0m\n\u001b[0m\u001b[0;32m    456\u001b[0m     \u001b[1;32melse\u001b[0m\u001b[1;33m:\u001b[0m\u001b[1;33m\u001b[0m\u001b[1;33m\u001b[0m\u001b[0m\n\u001b[0;32m    457\u001b[0m         \u001b[1;32mif\u001b[0m \u001b[0minfbounds\u001b[0m \u001b[1;33m!=\u001b[0m \u001b[1;36m0\u001b[0m\u001b[1;33m:\u001b[0m\u001b[1;33m\u001b[0m\u001b[1;33m\u001b[0m\u001b[0m\n",
      "\u001b[1;32m<ipython-input-148-957e955af3f1>\u001b[0m in \u001b[0;36m<lambda>\u001b[1;34m(y)\u001b[0m\n\u001b[0;32m      9\u001b[0m     \u001b[0mt_\u001b[0m \u001b[1;33m=\u001b[0m \u001b[1;33m[\u001b[0m\u001b[0mel\u001b[0m \u001b[1;33m+\u001b[0m \u001b[0mtau\u001b[0m \u001b[1;32mfor\u001b[0m \u001b[0mel\u001b[0m \u001b[1;32min\u001b[0m \u001b[0mt\u001b[0m\u001b[1;33m]\u001b[0m\u001b[1;33m\u001b[0m\u001b[1;33m\u001b[0m\u001b[0m\n\u001b[0;32m     10\u001b[0m \u001b[1;33m\u001b[0m\u001b[0m\n\u001b[1;32m---> 11\u001b[1;33m     \u001b[0mintegrand\u001b[0m \u001b[1;33m=\u001b[0m \u001b[1;32mlambda\u001b[0m \u001b[0my\u001b[0m\u001b[1;33m:\u001b[0m \u001b[1;33m(\u001b[0m\u001b[0my_i\u001b[0m \u001b[1;33m-\u001b[0m \u001b[0mx_i\u001b[0m\u001b[1;33m)\u001b[0m \u001b[1;33m*\u001b[0m \u001b[0mp\u001b[0m\u001b[1;33m.\u001b[0m\u001b[0mP_cond\u001b[0m\u001b[1;33m(\u001b[0m\u001b[0mseries\u001b[0m\u001b[1;33m,\u001b[0m \u001b[1;33m[\u001b[0m\u001b[0my\u001b[0m\u001b[1;33m]\u001b[0m\u001b[1;33m,\u001b[0m \u001b[0mt_\u001b[0m\u001b[1;33m,\u001b[0m \u001b[0mx\u001b[0m\u001b[1;33m,\u001b[0m \u001b[0mt\u001b[0m\u001b[1;33m)\u001b[0m\u001b[1;33m\u001b[0m\u001b[1;33m\u001b[0m\u001b[0m\n\u001b[0m\u001b[0;32m     12\u001b[0m     \u001b[0mintegratum\u001b[0m \u001b[1;33m=\u001b[0m \u001b[0mintegrate\u001b[0m\u001b[1;33m.\u001b[0m\u001b[0mquad\u001b[0m\u001b[1;33m(\u001b[0m\u001b[0mintegrand\u001b[0m\u001b[1;33m,\u001b[0m \u001b[1;33m-\u001b[0m\u001b[0mnp\u001b[0m\u001b[1;33m.\u001b[0m\u001b[0minf\u001b[0m\u001b[1;33m,\u001b[0m \u001b[0mnp\u001b[0m\u001b[1;33m.\u001b[0m\u001b[0minf\u001b[0m\u001b[1;33m)\u001b[0m \u001b[1;31m#über y wird integriert\u001b[0m\u001b[1;33m\u001b[0m\u001b[1;33m\u001b[0m\u001b[0m\n\u001b[0;32m     13\u001b[0m     \u001b[0mresult\u001b[0m \u001b[1;33m=\u001b[0m \u001b[1;33m(\u001b[0m\u001b[1;36m1\u001b[0m \u001b[1;33m/\u001b[0m \u001b[0mtau\u001b[0m\u001b[1;33m)\u001b[0m \u001b[1;33m*\u001b[0m \u001b[0mintegratum\u001b[0m\u001b[1;33m\u001b[0m\u001b[1;33m\u001b[0m\u001b[0m\n",
      "\u001b[1;32m<ipython-input-142-0c049ee7b497>\u001b[0m in \u001b[0;36mP_cond\u001b[1;34m(self, y, y_val, t, y_val_, t_)\u001b[0m\n\u001b[0;32m     99\u001b[0m         '''\n\u001b[0;32m    100\u001b[0m         \u001b[0mdenominator\u001b[0m \u001b[1;33m=\u001b[0m \u001b[0mself\u001b[0m\u001b[1;33m.\u001b[0m\u001b[0mP_comp\u001b[0m\u001b[1;33m(\u001b[0m\u001b[0my\u001b[0m\u001b[1;33m,\u001b[0m \u001b[0my_val\u001b[0m\u001b[1;33m,\u001b[0m \u001b[0mt\u001b[0m\u001b[1;33m)\u001b[0m\u001b[1;33m\u001b[0m\u001b[1;33m\u001b[0m\u001b[0m\n\u001b[1;32m--> 101\u001b[1;33m         \u001b[0mnominator\u001b[0m \u001b[1;33m=\u001b[0m \u001b[0mself\u001b[0m\u001b[1;33m.\u001b[0m\u001b[0mP_comp\u001b[0m\u001b[1;33m(\u001b[0m\u001b[0my\u001b[0m\u001b[1;33m,\u001b[0m \u001b[0my_val_\u001b[0m\u001b[1;33m,\u001b[0m \u001b[0mt_\u001b[0m\u001b[1;33m)\u001b[0m\u001b[1;33m\u001b[0m\u001b[1;33m\u001b[0m\u001b[0m\n\u001b[0m\u001b[0;32m    102\u001b[0m \u001b[1;33m\u001b[0m\u001b[0m\n\u001b[0;32m    103\u001b[0m         \u001b[0mresult\u001b[0m \u001b[1;33m=\u001b[0m \u001b[0mnominator\u001b[0m \u001b[1;33m/\u001b[0m \u001b[0mdenominator\u001b[0m\u001b[1;33m\u001b[0m\u001b[1;33m\u001b[0m\u001b[0m\n",
      "\u001b[1;32m<ipython-input-142-0c049ee7b497>\u001b[0m in \u001b[0;36mP_comp\u001b[1;34m(self, y, y_val, t)\u001b[0m\n\u001b[0;32m     78\u001b[0m         \u001b[0mprint\u001b[0m\u001b[1;33m(\u001b[0m\u001b[0mlen\u001b[0m\u001b[1;33m(\u001b[0m\u001b[0my_val\u001b[0m\u001b[1;33m)\u001b[0m\u001b[1;33m,\u001b[0m \u001b[0mlen\u001b[0m\u001b[1;33m(\u001b[0m\u001b[0mt\u001b[0m\u001b[1;33m)\u001b[0m\u001b[1;33m)\u001b[0m\u001b[1;33m\u001b[0m\u001b[1;33m\u001b[0m\u001b[0m\n\u001b[0;32m     79\u001b[0m         \u001b[1;32mif\u001b[0m \u001b[1;33m(\u001b[0m\u001b[0mlen\u001b[0m\u001b[1;33m(\u001b[0m\u001b[0my_val\u001b[0m\u001b[1;33m)\u001b[0m \u001b[1;33m!=\u001b[0m \u001b[0mlen\u001b[0m\u001b[1;33m(\u001b[0m\u001b[0mt\u001b[0m\u001b[1;33m)\u001b[0m\u001b[1;33m)\u001b[0m\u001b[1;33m:\u001b[0m\u001b[1;33m\u001b[0m\u001b[1;33m\u001b[0m\u001b[0m\n\u001b[1;32m---> 80\u001b[1;33m             \u001b[1;32mraise\u001b[0m \u001b[0mTypeError\u001b[0m\u001b[1;33m(\u001b[0m\u001b[1;34m\"y_val and t must have the same size.\"\u001b[0m\u001b[1;33m)\u001b[0m\u001b[1;33m\u001b[0m\u001b[1;33m\u001b[0m\u001b[0m\n\u001b[0m\u001b[0;32m     81\u001b[0m \u001b[1;33m\u001b[0m\u001b[0m\n\u001b[0;32m     82\u001b[0m         \u001b[0mresult\u001b[0m \u001b[1;33m=\u001b[0m \u001b[1;36m0\u001b[0m\u001b[1;33m\u001b[0m\u001b[1;33m\u001b[0m\u001b[0m\n",
      "\u001b[1;31mTypeError\u001b[0m: y_val and t must have the same size."
     ]
    }
   ],
   "source": [
    "# Testing T and D\n",
    "\n",
    "i = 1\n",
    "t = [0]\n",
    "series = x\n",
    "tau = 1\n",
    "T_1(series, x, t, i, tau)"
   ]
  },
  {
   "cell_type": "markdown",
   "metadata": {},
   "source": [
    "### resulting Fokker-Planck equation"
   ]
  },
  {
   "cell_type": "code",
   "execution_count": null,
   "metadata": {},
   "outputs": [],
   "source": []
  },
  {
   "cell_type": "markdown",
   "metadata": {},
   "source": [
    "## literature"
   ]
  },
  {
   "cell_type": "markdown",
   "metadata": {},
   "source": [
    "[1] \"Analysis of time series from stochastic processes\" by J.Gradisek, S.Riegert, R.Freidrich, I.Grabec\n",
    "\n",
    "[2] \"Simulation - Advanced Topics\" by A.Greiner as of June 11, 2020"
   ]
  },
  {
   "cell_type": "code",
   "execution_count": null,
   "metadata": {},
   "outputs": [],
   "source": []
  }
 ],
 "metadata": {
  "kernelspec": {
   "display_name": "Python 3",
   "language": "python",
   "name": "python3"
  },
  "language_info": {
   "codemirror_mode": {
    "name": "ipython",
    "version": 3
   },
   "file_extension": ".py",
   "mimetype": "text/x-python",
   "name": "python",
   "nbconvert_exporter": "python",
   "pygments_lexer": "ipython3",
   "version": "3.8.2"
  }
 },
 "nbformat": 4,
 "nbformat_minor": 2
}
