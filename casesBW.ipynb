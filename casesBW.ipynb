{
 "cells": [
  {
   "cell_type": "markdown",
   "metadata": {},
   "source": [
    "# Stochastic analysis of COVID19 time series in \"Baden-Württemberg\"\n",
    "data as of 10.06.2020 by https://sozialministerium.baden-wuerttemberg.de/de/gesundheit-pflege/gesundheitsschutz/infektionsschutz-hygiene/informationen-zu-coronavirus/lage-in-baden-wuerttemberg/"
   ]
  },
  {
   "cell_type": "code",
   "execution_count": 1,
   "metadata": {},
   "outputs": [],
   "source": [
    "import pandas as pd\n",
    "import numpy as np\n",
    "import matplotlib.pyplot as plt\n",
    "import datetime"
   ]
  },
  {
   "cell_type": "markdown",
   "metadata": {},
   "source": [
    "## extract values from selected list\n",
    "variables names: *I: Infected; *T: Deceased"
   ]
  },
  {
   "cell_type": "code",
   "execution_count": 2,
   "metadata": {},
   "outputs": [],
   "source": [
    "filename = 'Tabelle_Coronavirus-Faelle-BW.xlsx'\n",
    "dfi = pd.read_excel(filename, sheet_name='Infizierte Coronavirus in BW', header=None)\n",
    "dft = pd.read_excel(filename, sheet_name='Todesfälle Coronavirus in BW', header=None)"
   ]
  },
  {
   "cell_type": "code",
   "execution_count": 3,
   "metadata": {
    "scrolled": true
   },
   "outputs": [],
   "source": [
    "ctyI = np.nan_to_num(np.asarray(dfi))\n",
    "ctyT = np.nan_to_num(np.asarray(dft))\n",
    "# row 7: dates\n",
    "# row 8 to 51: regions\n",
    "    # row 18: Freiburg\n",
    "    # row 38: Ravensburg\n",
    "# row 52: sum"
   ]
  },
  {
   "cell_type": "markdown",
   "metadata": {},
   "source": [
    "## plot regional data"
   ]
  },
  {
   "cell_type": "code",
   "execution_count": 63,
   "metadata": {
    "scrolled": false
   },
   "outputs": [
    {
     "name": "stdout",
     "output_type": "stream",
     "text": [
      "I1: True\n",
      "T1: True\n",
      "dIdt: True\n",
      "dTdt: True\n",
      "checksum I: True\n",
      "checksum T: True\n"
     ]
    }
   ],
   "source": [
    "index = 17\n",
    "region = ctyI[index][0]\n",
    "title = 'Corona cases in %s' % region\n",
    "\n",
    "# calculate x data: dates\n",
    "# currently: approximation where each month is approximated by 30 days.\n",
    "xI = [el.day+el.month*30 if type(el) == datetime.datetime else False for el in ctyI[6]]\n",
    "xT = [el.day+el.month*30 if type(el) == datetime.datetime else False for el in ctyT[6]]\n",
    "\n",
    "# calculate trajectory points from data of given index\n",
    "yI = [el if type(el) == int else False for el in ctyI[index]]\n",
    "yT = [el if type(el) == int else False for el in ctyT[index]]\n",
    "\n",
    "# remove first element of lists (column of regions, only str in these)\n",
    "del xI[0]\n",
    "del xT[0]\n",
    "del yI[0]\n",
    "del yT[0]\n",
    "\n",
    "# Calculate new cases per day\n",
    "dyIdt = []\n",
    "for i in range(len(yI)):\n",
    "    dyIdt.append(yI[i-1] - yI[i] if (yI[i-1] > 0 and i > 0) else False)\n",
    "del dyIdt[0]\n",
    "dyIdt.append(yI[-1])\n",
    "    \n",
    "# Calculate new deaths per day\n",
    "dyTdt = []\n",
    "for i in range(len(yT)):\n",
    "    dyTdt.append(yT[i-1] - yT[i] if (yT[i-1] > 0 and i > 0) else False)\n",
    "del dyTdt[0]\n",
    "dyTdt.append(yT[-1])\n",
    "\n",
    "# Checking for mistakes\n",
    "print('I1:', len(xI) == len(yI))\n",
    "print('T1:', len(xT) == len(yT))\n",
    "print('dIdt:', len(xI) == len(dyIdt))\n",
    "print('dTdt:', len(xT) == len(dyTdt))\n",
    "checksum = 0\n",
    "for el in dyIdt:\n",
    "    checksum += el\n",
    "print(\"checksum I:\", checksum == yI[0])\n",
    "checksum = 0\n",
    "for el in dyTdt:\n",
    "    checksum += el\n",
    "print(\"checksum T:\", checksum == yT[0])"
   ]
  },
  {
   "cell_type": "code",
   "execution_count": 64,
   "metadata": {},
   "outputs": [
    {
     "data": {
      "image/png": "[encoded data removed]",
      "text/plain": [
       "<Figure size 432x288 with 1 Axes>"
      ]
     },
     "metadata": {
      "needs_background": "light"
     },
     "output_type": "display_data"
    }
   ],
   "source": [
    "# Plot infected, deceased and new cases per day\n",
    "plt.scatter(xI, yI, label='Infected', s=2)\n",
    "plt.scatter(xT, yT, label='Deceased', s=2)\n",
    "plt.plot(xI, dyIdt, label='new cases per day', c='g')\n",
    "plt.xlabel('Time [days]')\n",
    "plt.ylabel('Cases')\n",
    "plt.title(title)\n",
    "plt.legend(loc='upper left')\n",
    "plt.savefig('%sCases.png' % region)"
   ]
  },
  {
   "cell_type": "markdown",
   "metadata": {},
   "source": [
    "## plot total data"
   ]
  },
  {
   "cell_type": "code",
   "execution_count": 65,
   "metadata": {},
   "outputs": [
    {
     "name": "stdout",
     "output_type": "stream",
     "text": [
      "I2: True\n",
      "T2: True\n",
      "dI_totaldt: True\n",
      "dT_totaldt: True\n",
      "checksum I: True\n",
      "checksum T: True\n"
     ]
    }
   ],
   "source": [
    "# calculate total sum\n",
    "yI_total = [el for el in ctyI[51]]\n",
    "yT_total = [el for el in ctyT[51]]\n",
    "\n",
    "# remove first element of lists (column of regions, only str in these)\n",
    "del yI_total[0]\n",
    "del yT_total[0]\n",
    "\n",
    "# Calculate new cases per day\n",
    "dyI_totaldt = []\n",
    "for i in range(len(yI_total)):\n",
    "    dyI_totaldt.append(yI_total[i-1] - yI_total[i] if (yI_total[i-1] > 0 and i > 0) else False)\n",
    "del dyI_totaldt[0]\n",
    "dyI_totaldt.append(yI_total[-1])\n",
    "    \n",
    "# Calculate new deaths per day\n",
    "dyT_totaldt = []\n",
    "for i in range(len(yT)):\n",
    "    dyT_totaldt.append(yT_total[i-1] - yT_total[i] if (yT_total[i-1] > 0 and i > 0) else False)\n",
    "del dyT_totaldt[0]\n",
    "dyT_totaldt.append(yT_total[-1])\n",
    "    \n",
    "# Checking for mistakes\n",
    "print('I2:', len(xI) == len(yI_total))\n",
    "print('T2:', len(xT) == len(yT_total))\n",
    "print('dI_totaldt:', len(xI) == len(dyI_totaldt))\n",
    "print('dT_totaldt:', len(xT) == len(dyT_totaldt))\n",
    "checksum = 0\n",
    "for el in dyI_totaldt:\n",
    "    checksum += el\n",
    "print(\"checksum I:\", checksum == yI_total[0])    \n",
    "checksum = 0\n",
    "for el in dyT_totaldt:\n",
    "    checksum += el\n",
    "print(\"checksum T:\", checksum == yT_total[0])"
   ]
  },
  {
   "cell_type": "code",
   "execution_count": 67,
   "metadata": {},
   "outputs": [
    {
     "data": {
      "image/png": "[encoded data removed]",
      "text/plain": [
       "<Figure size 432x288 with 1 Axes>"
      ]
     },
     "metadata": {
      "needs_background": "light"
     },
     "output_type": "display_data"
    }
   ],
   "source": [
    "# Plot infected, deceased and new cases per day\n",
    "plt.scatter(xI, yI_total, label='Total infected', s=2)\n",
    "plt.scatter(xT, yT_total, label='Total deceased', s=2)\n",
    "plt.plot(xI, dyI_totaldt, label='new cases per day', c='g')\n",
    "plt.xlabel('Time [days]')\n",
    "plt.ylabel('Cases')\n",
    "plt.title('total Corona cases Baden-Württemberg')\n",
    "plt.legend(loc='upper left')\n",
    "plt.savefig('BWCases.png')"
   ]
  },
  {
   "cell_type": "code",
   "execution_count": null,
   "metadata": {},
   "outputs": [],
   "source": []
  }
 ],
 "metadata": {
  "kernelspec": {
   "display_name": "Python 3",
   "language": "python",
   "name": "python3"
  },
  "language_info": {
   "codemirror_mode": {
    "name": "ipython",
    "version": 3
   },
   "file_extension": ".py",
   "mimetype": "text/x-python",
   "name": "python",
   "nbconvert_exporter": "python",
   "pygments_lexer": "ipython3",
   "version": "3.8.2"
  }
 },
 "nbformat": 4,
 "nbformat_minor": 2
}
