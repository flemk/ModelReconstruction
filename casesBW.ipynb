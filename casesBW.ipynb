{
 "cells": [
  {
   "cell_type": "markdown",
   "metadata": {},
   "source": [
    "# stochastic analysis of COVID19 time series in \"Baden-Württemberg\"\n",
    "data as of 10.06.2020 by https://sozialministerium.baden-wuerttemberg.de/de/gesundheit-pflege/gesundheitsschutz/infektionsschutz-hygiene/informationen-zu-coronavirus/lage-in-baden-wuerttemberg/\n",
    "\n",
    "algorithm from \"Analysis of time series from stochastic processes\" by J.Gradisek, S.Riegert, R.Freidrich, I.Grabec [1]"
   ]
  },
  {
   "cell_type": "code",
   "execution_count": 1,
   "metadata": {},
   "outputs": [],
   "source": [
    "import pandas as pd\n",
    "import numpy as np\n",
    "from scipy import signal, stats\n",
    "import matplotlib.pyplot as plt\n",
    "import datetime"
   ]
  },
  {
   "cell_type": "markdown",
   "metadata": {},
   "source": [
    "## 1. extract values from selected list\n",
    "variables names: *I: Infected; *T: Deceased"
   ]
  },
  {
   "cell_type": "code",
   "execution_count": 2,
   "metadata": {},
   "outputs": [],
   "source": [
    "filename = 'Tabelle_Coronavirus-Faelle-BW.xlsx'\n",
    "dfi = pd.read_excel(filename, sheet_name='Infizierte Coronavirus in BW', header=None)\n",
    "dft = pd.read_excel(filename, sheet_name='Todesfälle Coronavirus in BW', header=None)"
   ]
  },
  {
   "cell_type": "code",
   "execution_count": 5,
   "metadata": {
    "scrolled": true
   },
   "outputs": [],
   "source": [
    "ctyI = np.nan_to_num(np.asarray(dfi))\n",
    "ctyT = np.nan_to_num(np.asarray(dft))\n",
    "# row 7: dates\n",
    "# row 8 to 51: regions\n",
    "    # row 18: Freiburg\n",
    "    # row 38: Ravensburg\n",
    "# row 52: sum"
   ]
  },
  {
   "cell_type": "markdown",
   "metadata": {},
   "source": [
    "### plot regional data"
   ]
  },
  {
   "cell_type": "code",
   "execution_count": 89,
   "metadata": {
    "scrolled": false
   },
   "outputs": [
    {
     "name": "stdout",
     "output_type": "stream",
     "text": [
      "I1: True\n",
      "T1: True\n",
      "dIdt: True\n",
      "dTdt: True\n",
      "checksum I: True\n",
      "checksum T: True\n"
     ]
    }
   ],
   "source": [
    "index = 17\n",
    "region = ctyI[index][0]\n",
    "title = 'Corona cases in %s' % region\n",
    "\n",
    "# calculate x data: dates\n",
    "# currently: approximation where each month is approximated by 30 days.\n",
    "xI = [el.day+el.month*30 if type(el) == datetime.datetime else False for el in ctyI[6]]\n",
    "xT = [el.day+el.month*30 if type(el) == datetime.datetime else False for el in ctyT[6]]\n",
    "\n",
    "# calculate trajectory points from data of given index\n",
    "yI = [el if type(el) == int else False for el in ctyI[index]]\n",
    "yT = [el if type(el) == int else False for el in ctyT[index]]\n",
    "\n",
    "# remove first element of lists (column of regions, only str in these)\n",
    "del xI[0]\n",
    "del xT[0]\n",
    "del yI[0]\n",
    "del yT[0]\n",
    "\n",
    "# flip arrays\n",
    "xI = np.flip(xI)\n",
    "xT = np.flip(xT)\n",
    "yI = np.flip(yI)\n",
    "yT = np.flip(yT)\n",
    "\n",
    "# Calculate new cases per day\n",
    "dyIdt = np.diff(yI, prepend=0)\n",
    "    \n",
    "# Calculate new deaths per day\n",
    "dyTdt = np.diff(yT,prepend=0)\n",
    "\n",
    "# Checking for mistakes\n",
    "print('I1:', len(xI) == len(yI))\n",
    "print('T1:', len(xT) == len(yT))\n",
    "print('dIdt:', len(xI) == len(dyIdt))\n",
    "print('dTdt:', len(xT) == len(dyTdt))\n",
    "checksum = 0\n",
    "for el in dyIdt:\n",
    "    checksum += el\n",
    "print(\"checksum I:\", checksum == yI[-1])\n",
    "checksum = 0\n",
    "for el in dyTdt:\n",
    "    checksum += el\n",
    "print(\"checksum T:\", checksum == yT[-1])"
   ]
  },
  {
   "cell_type": "code",
   "execution_count": 88,
   "metadata": {},
   "outputs": [
    {
     "data": {
      "image/png": "[encoded data removed]",
      "text/plain": [
       "<Figure size 432x288 with 1 Axes>"
      ]
     },
     "metadata": {
      "needs_background": "light"
     },
     "output_type": "display_data"
    }
   ],
   "source": [
    "# Plot infected, deceased and new cases per day\n",
    "plt.scatter(xI, yI, label='Infected', s=2)\n",
    "plt.scatter(xT, yT, label='Deceased', s=2)\n",
    "plt.plot(xI, dyIdt, label='new cases per day', c='g')\n",
    "plt.xlabel('Time [days]')\n",
    "plt.ylabel('Cases')\n",
    "plt.title(title)\n",
    "plt.legend(loc='upper left')\n",
    "plt.show()\n",
    "#plt.savefig('%sCases.png' % region)"
   ]
  },
  {
   "cell_type": "markdown",
   "metadata": {},
   "source": [
    "### plot total data"
   ]
  },
  {
   "cell_type": "code",
   "execution_count": 14,
   "metadata": {},
   "outputs": [
    {
     "name": "stdout",
     "output_type": "stream",
     "text": [
      "I2: True\n",
      "T2: True\n",
      "dI_totaldt: True\n",
      "dT_totaldt: True\n",
      "checksum I: True\n",
      "checksum T: True\n"
     ]
    }
   ],
   "source": [
    "# calculation of x-data in cell above\n",
    "\n",
    "# calculate total sum\n",
    "yI_total = [el for el in ctyI[51]]\n",
    "yT_total = [el for el in ctyT[51]]\n",
    "\n",
    "# remove first element of lists (column of regions, only str in these)\n",
    "del yI_total[0]\n",
    "del yT_total[0]\n",
    "\n",
    "# flip arrays\n",
    "yI_total = np.flip(yI_total)\n",
    "yT_total = np.flip(yT_total)\n",
    "\n",
    "# Calculate new cases per day\n",
    "dyI_totaldt = np.diff(yI_total, prepend=0)\n",
    "    \n",
    "# Calculate new deaths per day\n",
    "dyT_totaldt = np.diff(yT_total, prepend=0)\n",
    "    \n",
    "# Checking for mistakes\n",
    "print('I2:', len(xI) == len(yI_total))\n",
    "print('T2:', len(xT) == len(yT_total))\n",
    "print('dI_totaldt:', len(xI) == len(dyI_totaldt))\n",
    "print('dT_totaldt:', len(xT) == len(dyT_totaldt))\n",
    "checksum = 0\n",
    "for el in dyI_totaldt:\n",
    "    checksum += el\n",
    "print(\"checksum I:\", checksum == yI_total[-1])\n",
    "checksum = 0\n",
    "for el in dyT_totaldt:\n",
    "    checksum += el\n",
    "print(\"checksum T:\", checksum == yT_total[-1])"
   ]
  },
  {
   "cell_type": "code",
   "execution_count": 18,
   "metadata": {
    "scrolled": true
   },
   "outputs": [
    {
     "data": {
      "image/png": "[encoded data removed]",
      "text/plain": [
       "<Figure size 432x288 with 1 Axes>"
      ]
     },
     "metadata": {
      "needs_background": "light"
     },
     "output_type": "display_data"
    }
   ],
   "source": [
    "# Plot infected, deceased and new cases per day\n",
    "plt.scatter(xI, yI_total, label='Total infected', s=2)\n",
    "plt.scatter(xT, yT_total, label='Total deceased', s=2)\n",
    "plt.plot(xI, dyI_totaldt, label='new cases per day', c='g')\n",
    "plt.xlabel('Time [days]')\n",
    "plt.ylabel('Cases')\n",
    "plt.title('total Corona cases Baden-Württemberg')\n",
    "plt.legend(loc='upper left')\n",
    "plt.show()\n",
    "#plt.savefig('BWCases.png')"
   ]
  },
  {
   "cell_type": "markdown",
   "metadata": {},
   "source": [
    "## 2. stochastic analysis"
   ]
  },
  {
   "cell_type": "markdown",
   "metadata": {},
   "source": [
    "### conditional probability function"
   ]
  },
  {
   "cell_type": "code",
   "execution_count": 153,
   "metadata": {},
   "outputs": [],
   "source": [
    "class Probability:\n",
    "    def __init__(self, saving=True):\n",
    "        '''Collective of in this scope used probability functions\n",
    "        \n",
    "        Properties:\n",
    "            - (bool) saving: Defines wheter results should be saved or not.\n",
    "                If used, it'll reduce runtime.\n",
    "        '''\n",
    "        self.saving = saving\n",
    "        self.saved = {}\n",
    "    \n",
    "    def P_x(self, x):\n",
    "        '''Probability Distribution\n",
    "    \n",
    "        Returns the probability for x having the value x_val.\n",
    "    \n",
    "        Parameters:\n",
    "            - (float) x: The value to search for.\n",
    "        \n",
    "        Inherited as P_x(y, t) from [2].\n",
    "        \n",
    "        ______________________________________________________________________________\n",
    "        As for test purposes this function returns a gaussian distribution as default.\n",
    "        '''\n",
    "        mu = 0 # mean deviation\n",
    "        sigma = 0.1 # standard deviation\n",
    "        size = 1000\n",
    "        s = np.random.normal(mu, sigma, size)\n",
    "        \n",
    "        if self.saving:\n",
    "            self.saved['P_x'] = s\n",
    "    \n",
    "        return s\n",
    "    \n",
    "    def P_1(self, y, y_val, t):\n",
    "        '''Probability Distribution function\n",
    "        inherited from (9.54)[2]\n",
    "    \n",
    "        Calculates the probability distribution for y having the value y_val.\n",
    "        at time t.\n",
    "    \n",
    "        Parameters:\n",
    "            - (np.array) y: time series.\n",
    "            - (float) y_val: the value y shall have at time t.\n",
    "            - (int) t: time to be examined.\n",
    "        '''\n",
    "        if (y_val - y[t] == 0):\n",
    "            return P_x(y, y_val)\n",
    "        else:\n",
    "            return 0\n",
    "\n",
    "    def P_comp(self, y, y_val, t):\n",
    "        '''Compound Probability function\n",
    "        inherited from (9.55)[2]\n",
    "    \n",
    "        Parameters:\n",
    "            - (np.array) y: time series.\n",
    "            - (np.array) y_val: values y shall have at times t.\n",
    "            - (np.array) t: times.\n",
    "        \n",
    "        Requirements:\n",
    "            >>> len(y_val) == len(t)\n",
    "        '''\n",
    "        if (len(y_val) != len(t)):\n",
    "            raise TypeError(\"y_val and t must have the same size.\")\n",
    "    \n",
    "        result = 0\n",
    "        r = True\n",
    "        for i in range(len(y_val)):\n",
    "            if (y_val[i] - y[t[i]] != 0):\n",
    "                r = False\n",
    "                break;\n",
    "            else:\n",
    "                result += P_x(y, y_val[i])\n",
    "            \n",
    "        return result if r else 0\n",
    "\n",
    "    def P_cond(self, y, y_val, t, y_val_, t_):\n",
    "        '''Conditional Probabilty function\n",
    "        inherited from (9.58)[2]\n",
    "    \n",
    "        Conditional Probability is the probability-density for Y having at time t_2 the value y_2\n",
    "        when at time t_1 the value y_1 was present.\n",
    "        '''\n",
    "        denominator = P_comp(y, y_val, t)\n",
    "        nominator = P_comp(y, y_val_, t_)\n",
    "    \n",
    "        result = nominator / denominator\n",
    "        return result"
   ]
  },
  {
   "cell_type": "code",
   "execution_count": 160,
   "metadata": {
    "scrolled": false
   },
   "outputs": [
    {
     "name": "stdout",
     "output_type": "stream",
     "text": [
      "Overlap test: [True, True, True, True, True, True, True, True, True]\n",
      "Inaccuracy test: 6.661338147750939e-16\n",
      "0.2222222222222222\n"
     ]
    },
    {
     "data": {
      "image/png": "[encoded data removed]",
      "text/plain": [
       "<Figure size 432x288 with 1 Axes>"
      ]
     },
     "metadata": {
      "needs_background": "light"
     },
     "output_type": "display_data"
    }
   ],
   "source": [
    "# Testing P\n",
    "p = Probability()\n",
    "\n",
    "y = np.arange(1000)\n",
    "y_val = [0, 2, 4, 5, 6, 7, 8, 9, 0]\n",
    "t = [0, 2, 4, 5, 6, 7, 8, 9, 0]\n",
    "\n",
    "print('Overlap test:', [y[t[i]] == y_val[i] for i in range(len(t))])\n",
    "\n",
    "# P_x\n",
    "plt.clf()\n",
    "plt.hist(p.P_x(1), 30, density=True)\n",
    "\n",
    "# P_comp\n",
    "out_0 = p.P_comp(y, y, y)\n",
    "print('Inaccuracy test:', out_0 - 1.0)\n",
    "\n",
    "# P_cond\n",
    "out_1 = p.P_cond(y, y_val, t, y_val[:2], t[:2])\n",
    "print(out_1)"
   ]
  },
  {
   "cell_type": "markdown",
   "metadata": {},
   "source": [
    "### determine drift- and diffusion-coefficients"
   ]
  },
  {
   "cell_type": "code",
   "execution_count": 118,
   "metadata": {},
   "outputs": [],
   "source": [
    "# eval parameter definition\n",
    "tau = 0.01\n",
    "\n",
    "def T_1(x, i, tau):\n",
    "    # [!] Pseudo Code!\n",
    "    # Function integrate must be yet implemented or inherited by scipy.\n",
    "    p = Probability()\n",
    "    t = False\n",
    "    return (1 / tau) * integrate((y[i] - x[i]) * p.P_cond(y, t + tau, x, t))\n",
    "    \n",
    "def T_2(x, y, i, j, tau):\n",
    "    # [!] Pseudo Code!\n",
    "    # Function integrate must be yet implemented or inherited by scipy.\n",
    "    p = Probability()\n",
    "    t = False\n",
    "    return (1 / tau) * integrate((y[i] - x[i]) * (y[j] - x[j]) * p.P_cond(y, t + tau, x, t))\n",
    "\n",
    "def D_1(i, x):\n",
    "    return T_1(i, x, tau)\n",
    "\n",
    "def D_2(i, j, x):\n",
    "    return T_2(i, j, x, tau) - tau * T_1(i, x, tau) * T_1(j, x, tau)"
   ]
  },
  {
   "cell_type": "markdown",
   "metadata": {},
   "source": [
    "### resulting Fokker-Planck equation"
   ]
  },
  {
   "cell_type": "code",
   "execution_count": null,
   "metadata": {},
   "outputs": [],
   "source": []
  },
  {
   "cell_type": "markdown",
   "metadata": {},
   "source": [
    "## literature"
   ]
  },
  {
   "cell_type": "markdown",
   "metadata": {},
   "source": [
    "[1] \"Analysis of time series from stochastic processes\" by J.Gradisek, S.Riegert, R.Freidrich, I.Grabec\n",
    "\n",
    "[2] \"Simulation - Advanced Topics\" by A.Greiner as of June 11, 2020"
   ]
  },
  {
   "cell_type": "code",
   "execution_count": null,
   "metadata": {},
   "outputs": [],
   "source": []
  }
 ],
 "metadata": {
  "kernelspec": {
   "display_name": "Python 3",
   "language": "python",
   "name": "python3"
  },
  "language_info": {
   "codemirror_mode": {
    "name": "ipython",
    "version": 3
   },
   "file_extension": ".py",
   "mimetype": "text/x-python",
   "name": "python",
   "nbconvert_exporter": "python",
   "pygments_lexer": "ipython3",
   "version": "3.8.2"
  }
 },
 "nbformat": 4,
 "nbformat_minor": 2
}
